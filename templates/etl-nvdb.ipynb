{
 "cells": [
  {
   "cell_type": "code",
   "execution_count": null,
   "metadata": {},
   "outputs": [],
   "source": [
    "# Usage of NVDB data\n",
    "# https://www.vegvesen.no/nvdb/apidokumentasjon"
   ]
  },
  {
   "cell_type": "code",
   "execution_count": null,
   "metadata": {},
   "outputs": [],
   "source": [
    "# Notebook config, enviroment and logging\n",
    "\n",
    "import os\n",
    "import sys\n",
    "from datetime import datetime\n",
    "\n",
    "import logging\n",
    "from dotenv import load_dotenv\n",
    "\n",
    "import pakkenellik.config as conf\n",
    "from pakkenellik.log import logger\n",
    "from pakkenellik.dataframe.clean_column_headers import clean_column_headers\n",
    "from pakkenellik.dataframe.regions import add_municipality_name\n",
    "from pakkenellik.dataframe.datetime import add_ymd, add_month_name, add_week_day, add_week_day_name\n",
    "\n",
    "# Add module path and load config\n",
    "module_path = os.path.abspath(os.path.join(\"..\"))\n",
    "if module_path not in sys.path:\n",
    "    sys.path.append(module_path)\n",
    "\n",
    "# Autoreload extension\n",
    "if \"autoreload\" not in get_ipython().extension_manager.loaded:\n",
    "    %load_ext autoreload\n",
    "\n",
    "%autoreload 2\n",
    "\n",
    "# Load the .env file into local env\n",
    "load_dotenv()\n",
    "\n",
    "# Create the config\n",
    "config = conf.Config(module_path)\n",
    "\n",
    "# Enable logging and crank up log level to DEBUG.\n",
    "# This is particularly useful when developing code in your project module and using it from a notebook.\n",
    "logger.setLevel(logging.INFO)"
   ]
  },
  {
   "cell_type": "code",
   "execution_count": null,
   "metadata": {},
   "outputs": [],
   "source": [
    "# nvdbapiv3 and Geopandas\n",
    "import pandas as pd\n",
    "import geopandas as gpd\n",
    "import nvdbapiv3"
   ]
  },
  {
   "cell_type": "code",
   "execution_count": null,
   "metadata": {},
   "outputs": [],
   "source": [
    "ras_data = nvdbapiv3.nvdbFagdata(445)\n",
    "df = pd.DataFrame(ras_data.to_records())\n",
    "df = clean_column_headers(df)\n",
    "df.head()"
   ]
  },
  {
   "cell_type": "code",
   "execution_count": null,
   "metadata": {},
   "outputs": [],
   "source": [
    "df.columns"
   ]
  },
  {
   "cell_type": "code",
   "execution_count": null,
   "metadata": {},
   "outputs": [],
   "source": [
    "df.skred_dato = pd.to_datetime(df.skred_dato, format='%Y-%m-%d')\n",
    "df = add_ymd(df, \"skred_dato\")\n",
    "df = add_month_name(df, \"skred_dato\")\n",
    "df = add_week_day(df, \"skred_dato\")\n",
    "df = add_week_day_name(df, \"skred_dato\", nynorsk=True)\n",
    "df = add_municipality_name(df, \"kommune\")"
   ]
  },
  {
   "cell_type": "code",
   "execution_count": null,
   "metadata": {},
   "outputs": [],
   "source": [
    "gs = gpd.GeoSeries.from_wkt(df[\"geometri\"])\n",
    "gdf = gpd.GeoDataFrame(df, geometry=gs, crs=\"EPSG:4326\")"
   ]
  },
  {
   "cell_type": "code",
   "execution_count": null,
   "metadata": {},
   "outputs": [],
   "source": [
    "timestamp = datetime.now().strftime(\"%Y%m%d-%H%M\")\n",
    "\n",
    "# using to_file with drive=GeoJSON saves a json. This saves a geojson\n",
    "with open(config.get_processed_file(f\"etl_e16_{timestamp}.geojson\"), 'w') as f:\n",
    "    # datetime don't json, so set default str\n",
    "    f.write(gdf[(gdf.vegkategori == \"E\") & (gdf.vegnummer == 16)][[\"skred_dato\", \"geometry\"]].to_json(default=str))"
   ]
  },
  {
   "cell_type": "code",
   "execution_count": null,
   "metadata": {},
   "outputs": [],
   "source": [
    "df.to_csv(config.get_processed_file(\"etl_e16.csv\"), index=False)"
   ]
  },
  {
   "cell_type": "code",
   "execution_count": null,
   "metadata": {},
   "outputs": [],
   "source": []
  }
 ],
 "metadata": {
  "kernelspec": {
   "display_name": "Python 3 (ipykernel)",
   "language": "python",
   "name": "python3"
  },
  "language_info": {
   "codemirror_mode": {
    "name": "ipython",
    "version": 3
   },
   "file_extension": ".py",
   "mimetype": "text/x-python",
   "name": "python",
   "nbconvert_exporter": "python",
   "pygments_lexer": "ipython3",
   "version": "3.10.3"
  },
  "vscode": {
   "interpreter": {
    "hash": "3f244a435548f27ecbf8f41ecfc78599ba2a153abf85f5911888dcee3147a86d"
   }
  }
 },
 "nbformat": 4,
 "nbformat_minor": 4
}
