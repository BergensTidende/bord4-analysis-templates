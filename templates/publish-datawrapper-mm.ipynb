{
 "cells": [
  {
   "cell_type": "markdown",
   "metadata": {},
   "source": [
    "# Article\n",
    "\n",
    "Notebooks in publish is for anaylsis and graphics used in the final article. For exploration use the EDA folder."
   ]
  },
  {
   "cell_type": "code",
   "execution_count": 27,
   "metadata": {
    "tags": []
   },
   "outputs": [
    {
     "name": "stdout",
     "output_type": "stream",
     "text": [
      "The autoreload extension is already loaded. To reload it, use:\n",
      "  %reload_ext autoreload\n"
     ]
    }
   ],
   "source": [
    "# Notebook config, enviroment and logging\n",
    "\n",
    "import os\n",
    "import sys\n",
    "\n",
    "import logging\n",
    "from dotenv import load_dotenv\n",
    "\n",
    "import pakkenellik.config as conf\n",
    "from pakkenellik.log import logger\n",
    "\n",
    "# Add module path and load config\n",
    "module_path = os.path.abspath(os.path.join(\"..\"))\n",
    "if module_path not in sys.path:\n",
    "    sys.path.append(module_path)\n",
    "\n",
    "# Autoreload extension\n",
    "if \"autoreload\" not in get_ipython().extension_manager.loaded:\n",
    "    %load_ext autoreload\n",
    "\n",
    "%autoreload 2\n",
    "\n",
    "# Load the .env file into local env\n",
    "load_dotenv()\n",
    "\n",
    "# Create the config\n",
    "config = conf.Config(module_path)\n",
    "\n",
    "# Enable logging and crank up log level to DEBUG.\n",
    "# This is particularly useful when developing code in your project module and using it from a notebook.\n",
    "logger.setLevel(logging.INFO)"
   ]
  },
  {
   "cell_type": "code",
   "execution_count": 28,
   "metadata": {
    "tags": []
   },
   "outputs": [],
   "source": [
    "# Data manipulation\n",
    "import pandas as pd\n",
    "import numpy as np\n",
    "\n",
    "# Options for pandas\n",
    "pd.options.display.max_columns = 50\n",
    "pd.options.display.max_rows = 30\n",
    "\n",
    "# Visualizations\n",
    "import matplotlib as plt"
   ]
  },
  {
   "cell_type": "code",
   "execution_count": 29,
   "metadata": {},
   "outputs": [],
   "source": [
    "# create charts\n",
    "from pakkenellik.datawrapper import Datawrapper\n",
    "from pakkenellik.integration.client import create_dw_integration, get_or_create_chart\n",
    "\n",
    "dw = Datawrapper(access_token=os.environ.get(\"DATAWRAPPER_API_TOKEN\"))\n",
    "DW_FOLDER = os.environ.get(\"DW_FOLDER\")"
   ]
  },
  {
   "cell_type": "markdown",
   "metadata": {
    "tags": []
   },
   "source": [
    "## Import data"
   ]
  },
  {
   "cell_type": "code",
   "execution_count": 30,
   "metadata": {},
   "outputs": [],
   "source": [
    "df = pd.read_csv(config.get_processed_file(\"etl_vestland.csv\"))\n",
    "df.municipality_id = df.municipality_id.astype(str)"
   ]
  },
  {
   "cell_type": "markdown",
   "metadata": {},
   "source": [
    "## Analysis for article"
   ]
  },
  {
   "cell_type": "code",
   "execution_count": 31,
   "metadata": {},
   "outputs": [],
   "source": [
    "# calculate percent change from year to year\n",
    "df[\"pct_ch\"] = df.groupby(\"municipality_id\", group_keys=False)[\"population\"].apply(\n",
    "    pd.Series.pct_change\n",
    ")"
   ]
  },
  {
   "cell_type": "code",
   "execution_count": 32,
   "metadata": {},
   "outputs": [
    {
     "data": {
      "text/html": [
       "<div>\n",
       "<style scoped>\n",
       "    .dataframe tbody tr th:only-of-type {\n",
       "        vertical-align: middle;\n",
       "    }\n",
       "\n",
       "    .dataframe tbody tr th {\n",
       "        vertical-align: top;\n",
       "    }\n",
       "\n",
       "    .dataframe thead th {\n",
       "        text-align: right;\n",
       "    }\n",
       "</style>\n",
       "<table border=\"1\" class=\"dataframe\">\n",
       "  <thead>\n",
       "    <tr style=\"text-align: right;\">\n",
       "      <th></th>\n",
       "      <th>municipality_id</th>\n",
       "      <th>municipality</th>\n",
       "      <th>year</th>\n",
       "      <th>population</th>\n",
       "      <th>pct_ch</th>\n",
       "    </tr>\n",
       "  </thead>\n",
       "  <tbody>\n",
       "    <tr>\n",
       "      <th>0</th>\n",
       "      <td>4601</td>\n",
       "      <td>Bergen</td>\n",
       "      <td>2001</td>\n",
       "      <td>230948</td>\n",
       "      <td>NaN</td>\n",
       "    </tr>\n",
       "    <tr>\n",
       "      <th>1</th>\n",
       "      <td>4601</td>\n",
       "      <td>Bergen</td>\n",
       "      <td>2002</td>\n",
       "      <td>233291</td>\n",
       "      <td>0.010145</td>\n",
       "    </tr>\n",
       "    <tr>\n",
       "      <th>2</th>\n",
       "      <td>4601</td>\n",
       "      <td>Bergen</td>\n",
       "      <td>2003</td>\n",
       "      <td>235423</td>\n",
       "      <td>0.009139</td>\n",
       "    </tr>\n",
       "    <tr>\n",
       "      <th>3</th>\n",
       "      <td>4601</td>\n",
       "      <td>Bergen</td>\n",
       "      <td>2004</td>\n",
       "      <td>237430</td>\n",
       "      <td>0.008525</td>\n",
       "    </tr>\n",
       "    <tr>\n",
       "      <th>4</th>\n",
       "      <td>4601</td>\n",
       "      <td>Bergen</td>\n",
       "      <td>2005</td>\n",
       "      <td>239209</td>\n",
       "      <td>0.007493</td>\n",
       "    </tr>\n",
       "    <tr>\n",
       "      <th>...</th>\n",
       "      <td>...</td>\n",
       "      <td>...</td>\n",
       "      <td>...</td>\n",
       "      <td>...</td>\n",
       "      <td>...</td>\n",
       "    </tr>\n",
       "    <tr>\n",
       "      <th>941</th>\n",
       "      <td>4651</td>\n",
       "      <td>Stryn</td>\n",
       "      <td>2018</td>\n",
       "      <td>7195</td>\n",
       "      <td>-0.003186</td>\n",
       "    </tr>\n",
       "    <tr>\n",
       "      <th>942</th>\n",
       "      <td>4651</td>\n",
       "      <td>Stryn</td>\n",
       "      <td>2019</td>\n",
       "      <td>7167</td>\n",
       "      <td>-0.003892</td>\n",
       "    </tr>\n",
       "    <tr>\n",
       "      <th>943</th>\n",
       "      <td>4651</td>\n",
       "      <td>Stryn</td>\n",
       "      <td>2020</td>\n",
       "      <td>7130</td>\n",
       "      <td>-0.005163</td>\n",
       "    </tr>\n",
       "    <tr>\n",
       "      <th>944</th>\n",
       "      <td>4651</td>\n",
       "      <td>Stryn</td>\n",
       "      <td>2021</td>\n",
       "      <td>7118</td>\n",
       "      <td>-0.001683</td>\n",
       "    </tr>\n",
       "    <tr>\n",
       "      <th>945</th>\n",
       "      <td>4651</td>\n",
       "      <td>Stryn</td>\n",
       "      <td>2022</td>\n",
       "      <td>7207</td>\n",
       "      <td>0.012504</td>\n",
       "    </tr>\n",
       "  </tbody>\n",
       "</table>\n",
       "<p>946 rows × 5 columns</p>\n",
       "</div>"
      ],
      "text/plain": [
       "    municipality_id municipality  year  population    pct_ch\n",
       "0              4601       Bergen  2001      230948       NaN\n",
       "1              4601       Bergen  2002      233291  0.010145\n",
       "2              4601       Bergen  2003      235423  0.009139\n",
       "3              4601       Bergen  2004      237430  0.008525\n",
       "4              4601       Bergen  2005      239209  0.007493\n",
       "..              ...          ...   ...         ...       ...\n",
       "941            4651        Stryn  2018        7195 -0.003186\n",
       "942            4651        Stryn  2019        7167 -0.003892\n",
       "943            4651        Stryn  2020        7130 -0.005163\n",
       "944            4651        Stryn  2021        7118 -0.001683\n",
       "945            4651        Stryn  2022        7207  0.012504\n",
       "\n",
       "[946 rows x 5 columns]"
      ]
     },
     "execution_count": 32,
     "metadata": {},
     "output_type": "execute_result"
    }
   ],
   "source": [
    "df"
   ]
  },
  {
   "cell_type": "code",
   "execution_count": 33,
   "metadata": {},
   "outputs": [
    {
     "data": {
      "text/html": [
       "<div>\n",
       "<style scoped>\n",
       "    .dataframe tbody tr th:only-of-type {\n",
       "        vertical-align: middle;\n",
       "    }\n",
       "\n",
       "    .dataframe tbody tr th {\n",
       "        vertical-align: top;\n",
       "    }\n",
       "\n",
       "    .dataframe thead th {\n",
       "        text-align: right;\n",
       "    }\n",
       "</style>\n",
       "<table border=\"1\" class=\"dataframe\">\n",
       "  <thead>\n",
       "    <tr style=\"text-align: right;\">\n",
       "      <th></th>\n",
       "      <th>municipality_id</th>\n",
       "      <th>municipality</th>\n",
       "      <th>year</th>\n",
       "      <th>population</th>\n",
       "      <th>pct_ch</th>\n",
       "    </tr>\n",
       "  </thead>\n",
       "  <tbody>\n",
       "    <tr>\n",
       "      <th>222</th>\n",
       "      <td>4619</td>\n",
       "      <td>Eidfjord</td>\n",
       "      <td>2003</td>\n",
       "      <td>915</td>\n",
       "      <td>-0.045881</td>\n",
       "    </tr>\n",
       "    <tr>\n",
       "      <th>545</th>\n",
       "      <td>4633</td>\n",
       "      <td>Fedje</td>\n",
       "      <td>2018</td>\n",
       "      <td>561</td>\n",
       "      <td>-0.044293</td>\n",
       "    </tr>\n",
       "    <tr>\n",
       "      <th>549</th>\n",
       "      <td>4633</td>\n",
       "      <td>Fedje</td>\n",
       "      <td>2022</td>\n",
       "      <td>502</td>\n",
       "      <td>-0.043810</td>\n",
       "    </tr>\n",
       "    <tr>\n",
       "      <th>548</th>\n",
       "      <td>4633</td>\n",
       "      <td>Fedje</td>\n",
       "      <td>2021</td>\n",
       "      <td>525</td>\n",
       "      <td>-0.041971</td>\n",
       "    </tr>\n",
       "    <tr>\n",
       "      <th>221</th>\n",
       "      <td>4619</td>\n",
       "      <td>Eidfjord</td>\n",
       "      <td>2002</td>\n",
       "      <td>959</td>\n",
       "      <td>-0.041958</td>\n",
       "    </tr>\n",
       "    <tr>\n",
       "      <th>633</th>\n",
       "      <td>4637</td>\n",
       "      <td>Hyllestad</td>\n",
       "      <td>2018</td>\n",
       "      <td>1378</td>\n",
       "      <td>-0.041725</td>\n",
       "    </tr>\n",
       "    <tr>\n",
       "      <th>535</th>\n",
       "      <td>4633</td>\n",
       "      <td>Fedje</td>\n",
       "      <td>2008</td>\n",
       "      <td>596</td>\n",
       "      <td>-0.038710</td>\n",
       "    </tr>\n",
       "    <tr>\n",
       "      <th>556</th>\n",
       "      <td>4634</td>\n",
       "      <td>Masfjorden</td>\n",
       "      <td>2007</td>\n",
       "      <td>1631</td>\n",
       "      <td>-0.036621</td>\n",
       "    </tr>\n",
       "    <tr>\n",
       "      <th>533</th>\n",
       "      <td>4633</td>\n",
       "      <td>Fedje</td>\n",
       "      <td>2006</td>\n",
       "      <td>638</td>\n",
       "      <td>-0.034796</td>\n",
       "    </tr>\n",
       "    <tr>\n",
       "      <th>41</th>\n",
       "      <td>4602</td>\n",
       "      <td>Kinn</td>\n",
       "      <td>2020</td>\n",
       "      <td>17207</td>\n",
       "      <td>-0.034508</td>\n",
       "    </tr>\n",
       "  </tbody>\n",
       "</table>\n",
       "</div>"
      ],
      "text/plain": [
       "    municipality_id municipality  year  population    pct_ch\n",
       "222            4619     Eidfjord  2003         915 -0.045881\n",
       "545            4633        Fedje  2018         561 -0.044293\n",
       "549            4633        Fedje  2022         502 -0.043810\n",
       "548            4633        Fedje  2021         525 -0.041971\n",
       "221            4619     Eidfjord  2002         959 -0.041958\n",
       "633            4637    Hyllestad  2018        1378 -0.041725\n",
       "535            4633        Fedje  2008         596 -0.038710\n",
       "556            4634   Masfjorden  2007        1631 -0.036621\n",
       "533            4633        Fedje  2006         638 -0.034796\n",
       "41             4602         Kinn  2020       17207 -0.034508"
      ]
     },
     "execution_count": 33,
     "metadata": {},
     "output_type": "execute_result"
    }
   ],
   "source": [
    "# Find ten year and municipality with largest drops\n",
    "df.sort_values(by=\"pct_ch\").head(10)"
   ]
  },
  {
   "cell_type": "markdown",
   "metadata": {},
   "source": [
    "## Graphs for article"
   ]
  },
  {
   "cell_type": "code",
   "execution_count": 34,
   "metadata": {},
   "outputs": [
    {
     "data": {
      "text/plain": [
       "<AxesSubplot: xlabel='year'>"
      ]
     },
     "execution_count": 34,
     "metadata": {},
     "output_type": "execute_result"
    },
    {
     "data": {
      "image/png": "[encoded data removed]",
      "text/plain": [
       "<Figure size 640x480 with 1 Axes>"
      ]
     },
     "metadata": {},
     "output_type": "display_data"
    }
   ],
   "source": [
    "# Create graph for Fedje\n",
    "df[df.municipality_id == \"4633\"].plot(x=\"year\", y=\"population\")"
   ]
  },
  {
   "cell_type": "markdown",
   "metadata": {},
   "source": [
    "## Use Datawrapper to create graph"
   ]
  },
  {
   "cell_type": "code",
   "execution_count": 35,
   "metadata": {},
   "outputs": [
    {
     "name": "stdout",
     "output_type": "stream",
     "text": [
      "Either file is missing or is not readable, creating file...\n",
      "New chart d3-lines created!\n",
      "Chart and integration does not exist. Creating with DW id: mzYJv\n"
     ]
    }
   ],
   "source": [
    "integration_key = \"fedje\"\n",
    "chart_id = get_or_create_chart(\n",
    "    dw,\n",
    "    integration_key,\n",
    "    title=\"Befolkningsutvikling i Fedje-kommune 2001–2022\",\n",
    "    chart_type=\"d3-lines\",\n",
    "    folder_id=DW_FOLDER,\n",
    ")"
   ]
  },
  {
   "cell_type": "code",
   "execution_count": 36,
   "metadata": {},
   "outputs": [
    {
     "name": "stdout",
     "output_type": "stream",
     "text": [
      "Chart's metadata updated!\n",
      "Chart with id mzYJv updated!\n"
     ]
    },
    {
     "name": "stderr",
     "output_type": "stream",
     "text": [
      "/Users/Lasse.Lambrechts@bt.no/Library/Caches/pypoetry/virtualenvs/bord4-analysis-templates-1LN8Krm6-py3.10/lib/python3.10/site-packages/IPython/core/display.py:431: UserWarning: Consider using IPython.display.IFrame instead\n",
      "  warnings.warn(\"Consider using IPython.display.IFrame instead\")\n"
     ]
    },
    {
     "data": {
      "text/html": [
       "<iframe title=\"Befolkningsutvikling i Fedje-kommune 2001–2022\" aria-label=\"Interactive line chart\" id=\"datawrapper-chart-mzYJv\" src=\"https://datawrapper.dwcdn.net/mzYJv/1/\" scrolling=\"no\" frameborder=\"0\" style=\"border: none;\" width=\"600\" height=\"400\" data-external=\"1\"></iframe>"
      ],
      "text/plain": [
       "<IPython.core.display.HTML object>"
      ]
     },
     "execution_count": 36,
     "metadata": {},
     "output_type": "execute_result"
    }
   ],
   "source": [
    "metadata = dw.chart_properties(chart_id)[\"metadata\"]\n",
    "\n",
    "if not \"colorscale\" in metadata[\"visualize\"]:\n",
    "    metadata[\"visualize\"][\"colorscale\"] = {}\n",
    "\n",
    "metadata[\"visualize\"][\"colorscale\"][\"colors\"] = [{\"color\": \"#f0f0f0\", \"position\": 0}]\n",
    "\n",
    "\n",
    "if not \"legend\" in metadata[\"visualize\"]:\n",
    "    metadata[\"visualize\"][\"legend\"] = {}\n",
    "\n",
    "metadata[\"visualize\"][\"legend\"][\"title\"] = \"Antall innbyggere\"\n",
    "\n",
    "dw.update_metadata(chart_id, metadata)\n",
    "\n",
    "# Add new data\n",
    "dw.add_data(chart_id, df[df.municipality_id == \"4633\"][[\"year\", \"population\"]])\n",
    "\n",
    "# Update chart title\n",
    "dw.update_chart(chart_id)"
   ]
  },
  {
   "cell_type": "markdown",
   "metadata": {},
   "source": [
    "## Create integrations"
   ]
  },
  {
   "cell_type": "code",
   "execution_count": 11,
   "metadata": {},
   "outputs": [
    {
     "name": "stdout",
     "output_type": "stream",
     "text": [
      "fedje https://api.schibsted.tech/proxy/content/v3/publication/bt/multimedias/76a8ce7b-1182-4d19-b426-d4c2aec55546\n"
     ]
    },
    {
     "data": {
      "text/plain": [
       "True"
      ]
     },
     "execution_count": 11,
     "metadata": {},
     "output_type": "execute_result"
    }
   ],
   "source": [
    "# Create or update integration\n",
    "create_dw_integration(dw, integration_key, chart_id)"
   ]
  }
 ],
 "metadata": {
  "kernelspec": {
   "display_name": "Python 3 (ipykernel)",
   "language": "python",
   "name": "python3"
  },
  "language_info": {
   "codemirror_mode": {
    "name": "ipython",
    "version": 3
   },
   "file_extension": ".py",
   "mimetype": "text/x-python",
   "name": "python",
   "nbconvert_exporter": "python",
   "pygments_lexer": "ipython3",
   "version": "3.10.3"
  }
 },
 "nbformat": 4,
 "nbformat_minor": 4
}
