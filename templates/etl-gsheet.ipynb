{
 "cells": [
  {
   "cell_type": "markdown",
   "id": "7b2c06d7-ead9-4552-a1f2-d3001687ca8e",
   "metadata": {},
   "source": [
    "# Header\n",
    "Important information that helps you understand this notebook in four months time"
   ]
  },
  {
   "cell_type": "code",
   "execution_count": 5,
   "id": "dd3728d5-329e-492b-9ffc-43c9b5f7b244",
   "metadata": {},
   "outputs": [
    {
     "name": "stdout",
     "output_type": "stream",
     "text": [
      "The autoreload extension is already loaded. To reload it, use:\n",
      "  %reload_ext autoreload\n"
     ]
    }
   ],
   "source": [
    "import os\n",
    "import sys\n",
    "\n",
    "PROJECT_DIRECTORY = os.path.realpath(os.path.curdir)\n",
    "\n",
    "module_path = os.path.abspath(os.path.join(\"..\"))\n",
    "if module_path not in sys.path:\n",
    "    sys.path.append(module_path)\n",
    "\n",
    "# Autoreload extension\n",
    "if \"autoreload\" not in get_ipython().extension_manager.loaded:\n",
    "    %load_ext autoreload\n",
    "\n",
    "%autoreload 2"
   ]
  },
  {
   "cell_type": "code",
   "execution_count": 6,
   "id": "829d2269-116b-4181-9672-57317e81644a",
   "metadata": {},
   "outputs": [],
   "source": [
    "## Data manipulation\n",
    "import pandas as pd\n",
    "import numpy as np\n",
    "\n",
    "# Options for pandas\n",
    "pd.options.display.max_columns = 50\n",
    "pd.options.display.max_rows = 30\n",
    "\n",
    "from src.dataframe import clean_column_headers"
   ]
  },
  {
   "cell_type": "code",
   "execution_count": 7,
   "id": "99cee32e-61ef-40a6-b539-6f04e75b46b2",
   "metadata": {},
   "outputs": [],
   "source": [
    "## Specific imports\n",
    "\n",
    "from src.utils.spreadsheet import open_gsheet, fetch_gsheet\n",
    "from gspread_dataframe import get_as_dataframe, set_with_dataframe\n",
    "from gspread_formatting.dataframe import (\n",
    "    format_with_dataframe,\n",
    "    BasicFormatter,\n",
    "    cellFormat,\n",
    ")\n",
    "from gspread_formatting import *"
   ]
  },
  {
   "cell_type": "markdown",
   "id": "9c6556ef-bfde-4720-9dc9-fdcbaa877193",
   "metadata": {},
   "source": [
    "\n",
    "## Logging\n",
    "\n",
    "Enable logging and crank up log level to DEBUG. This is particularly useful when developing code in your project module and using it from a notebook.\n"
   ]
  },
  {
   "cell_type": "code",
   "execution_count": 8,
   "id": "f0a94449-b0ba-498c-95c4-cca4d039d60d",
   "metadata": {
    "tags": []
   },
   "outputs": [],
   "source": [
    "import logging\n",
    "from src.log import logger\n",
    "\n",
    "logger.setLevel(logging.DEBUG)"
   ]
  },
  {
   "cell_type": "markdown",
   "id": "ac0a9157-62c3-41df-806e-608209225519",
   "metadata": {},
   "source": [
    "## Read from spreadsheet"
   ]
  },
  {
   "cell_type": "code",
   "execution_count": 9,
   "id": "63665ccf-45f3-48bf-8ea5-296b6f7d9c04",
   "metadata": {},
   "outputs": [
    {
     "ename": "TypeError",
     "evalue": "the JSON object must be str, bytes or bytearray, not NoneType",
     "output_type": "error",
     "traceback": [
      "\u001b[0;31m---------------------------------------------------------------------------\u001b[0m",
      "\u001b[0;31mTypeError\u001b[0m                                 Traceback (most recent call last)",
      "Input \u001b[0;32mIn [9]\u001b[0m, in \u001b[0;36m<cell line: 3>\u001b[0;34m()\u001b[0m\n\u001b[1;32m      1\u001b[0m spreadsheet_key \u001b[38;5;241m=\u001b[39m \u001b[38;5;124m'\u001b[39m\u001b[38;5;124m1jGlTkk356r8NKrN6FhWmLBezzx18PzR5YuXaKRoYprM\u001b[39m\u001b[38;5;124m'\u001b[39m\n\u001b[0;32m----> 3\u001b[0m worksheet_fetch \u001b[38;5;241m=\u001b[39m \u001b[43mfetch_gsheet\u001b[49m\u001b[43m(\u001b[49m\u001b[43mspreadsheet_key\u001b[49m\u001b[43m,\u001b[49m\u001b[43m \u001b[49m\u001b[43msheet_name\u001b[49m\u001b[38;5;241;43m=\u001b[39;49m\u001b[38;5;124;43m'\u001b[39;49m\u001b[38;5;124;43mkommuner_vs_helseforetak\u001b[39;49m\u001b[38;5;124;43m'\u001b[39;49m\u001b[43m)\u001b[49m\n\u001b[1;32m      5\u001b[0m df_fetch \u001b[38;5;241m=\u001b[39m pd\u001b[38;5;241m.\u001b[39mDataFrame(worksheet_fetch)\n",
      "File \u001b[0;32m~/work/analysis/bord4-analysis-templates/src/utils/spreadsheet.py:21\u001b[0m, in \u001b[0;36mfetch_gsheet\u001b[0;34m(spreadsheet_key, sheet_num, sheet_name)\u001b[0m\n\u001b[1;32m     14\u001b[0m \u001b[38;5;28;01mdef\u001b[39;00m \u001b[38;5;21mfetch_gsheet\u001b[39m(spreadsheet_key, sheet_num\u001b[38;5;241m=\u001b[39m\u001b[38;5;241m0\u001b[39m, sheet_name\u001b[38;5;241m=\u001b[39m\u001b[38;5;28;01mNone\u001b[39;00m):\n\u001b[1;32m     16\u001b[0m     \u001b[38;5;124;03m\"\"\"\u001b[39;00m\n\u001b[1;32m     17\u001b[0m \u001b[38;5;124;03m    Fetch Google spreadsheet as records\u001b[39;00m\n\u001b[1;32m     18\u001b[0m \u001b[38;5;124;03m    \"\"\"\u001b[39;00m\n\u001b[1;32m     20\u001b[0m     credentials \u001b[38;5;241m=\u001b[39m Credentials\u001b[38;5;241m.\u001b[39mfrom_service_account_info(\n\u001b[0;32m---> 21\u001b[0m         \u001b[43mjson\u001b[49m\u001b[38;5;241;43m.\u001b[39;49m\u001b[43mloads\u001b[49m\u001b[43m(\u001b[49m\u001b[43mos\u001b[49m\u001b[38;5;241;43m.\u001b[39;49m\u001b[43menviron\u001b[49m\u001b[38;5;241;43m.\u001b[39;49m\u001b[43mget\u001b[49m\u001b[43m(\u001b[49m\u001b[38;5;124;43m'\u001b[39;49m\u001b[38;5;124;43mGOOGLE_APPLICATION_CREDENTIALS\u001b[39;49m\u001b[38;5;124;43m'\u001b[39;49m\u001b[43m)\u001b[49m\u001b[43m)\u001b[49m, scopes\u001b[38;5;241m=\u001b[39mscopes\n\u001b[1;32m     22\u001b[0m     )\n\u001b[1;32m     24\u001b[0m     gc \u001b[38;5;241m=\u001b[39m gspread\u001b[38;5;241m.\u001b[39mauthorize(credentials)\n\u001b[1;32m     26\u001b[0m     sheet \u001b[38;5;241m=\u001b[39m gc\u001b[38;5;241m.\u001b[39mopen_by_key(spreadsheet_key)\u001b[38;5;241m.\u001b[39mget_worksheet(sheet_num)\n",
      "File \u001b[0;32m~/.pyenv/versions/3.8.12/lib/python3.8/json/__init__.py:341\u001b[0m, in \u001b[0;36mloads\u001b[0;34m(s, cls, object_hook, parse_float, parse_int, parse_constant, object_pairs_hook, **kw)\u001b[0m\n\u001b[1;32m    339\u001b[0m \u001b[38;5;28;01melse\u001b[39;00m:\n\u001b[1;32m    340\u001b[0m     \u001b[38;5;28;01mif\u001b[39;00m \u001b[38;5;129;01mnot\u001b[39;00m \u001b[38;5;28misinstance\u001b[39m(s, (\u001b[38;5;28mbytes\u001b[39m, \u001b[38;5;28mbytearray\u001b[39m)):\n\u001b[0;32m--> 341\u001b[0m         \u001b[38;5;28;01mraise\u001b[39;00m \u001b[38;5;167;01mTypeError\u001b[39;00m(\u001b[38;5;124mf\u001b[39m\u001b[38;5;124m'\u001b[39m\u001b[38;5;124mthe JSON object must be str, bytes or bytearray, \u001b[39m\u001b[38;5;124m'\u001b[39m\n\u001b[1;32m    342\u001b[0m                         \u001b[38;5;124mf\u001b[39m\u001b[38;5;124m'\u001b[39m\u001b[38;5;124mnot \u001b[39m\u001b[38;5;132;01m{\u001b[39;00ms\u001b[38;5;241m.\u001b[39m\u001b[38;5;18m__class__\u001b[39m\u001b[38;5;241m.\u001b[39m\u001b[38;5;18m__name__\u001b[39m\u001b[38;5;132;01m}\u001b[39;00m\u001b[38;5;124m'\u001b[39m)\n\u001b[1;32m    343\u001b[0m     s \u001b[38;5;241m=\u001b[39m s\u001b[38;5;241m.\u001b[39mdecode(detect_encoding(s), \u001b[38;5;124m'\u001b[39m\u001b[38;5;124msurrogatepass\u001b[39m\u001b[38;5;124m'\u001b[39m)\n\u001b[1;32m    345\u001b[0m \u001b[38;5;28;01mif\u001b[39;00m \u001b[38;5;124m\"\u001b[39m\u001b[38;5;124mencoding\u001b[39m\u001b[38;5;124m\"\u001b[39m \u001b[38;5;129;01min\u001b[39;00m kw:\n",
      "\u001b[0;31mTypeError\u001b[0m: the JSON object must be str, bytes or bytearray, not NoneType"
     ]
    }
   ],
   "source": [
    "spreadsheet_key = \"1jGlTkk356r8NKrN6FhWmLBezzx18PzR5YuXaKRoYprM\"\n",
    "\n",
    "worksheet_fetch = fetch_gsheet(spreadsheet_key, sheet_name=\"kommuner_vs_helseforetak\")\n",
    "\n",
    "df_fetch = pd.DataFrame(worksheet_fetch)"
   ]
  },
  {
   "cell_type": "markdown",
   "id": "c0116156-5300-47af-b5dc-80a4f7387fe3",
   "metadata": {},
   "source": [
    "## Write to Spreadsheet"
   ]
  },
  {
   "cell_type": "code",
   "execution_count": null,
   "id": "d43bc148-0b0c-4a20-aad2-7c49bc017f66",
   "metadata": {},
   "outputs": [],
   "source": [
    "worksheet = open_gsheet(\"1MNcG6lkvwYAPxfUVGtC_tKygG5ViNz9hOK1tq2kyhrE\")"
   ]
  },
  {
   "cell_type": "code",
   "execution_count": null,
   "id": "70caddd0-4c5e-455e-a5b1-74bab1072214",
   "metadata": {},
   "outputs": [],
   "source": [
    "set_with_dataframe(worksheet, df_merged)"
   ]
  },
  {
   "cell_type": "code",
   "execution_count": null,
   "id": "5cbe28fc-fff1-46e9-9edc-f9539b8a56eb",
   "metadata": {},
   "outputs": [],
   "source": [
    "date_fmt = cellFormat(\n",
    "    numberFormat=numberFormat(\"DATE_TIME\", \"yyyy-mm-dd\"),\n",
    "    horizontalAlignment=\"LEFT\",\n",
    ")\n",
    "\n",
    "format_cell_range(worksheet, \"B:E\", date_fmt)\n",
    "\n",
    "wrap_fmt = cellFormat(\n",
    "    horizontalAlignment=\"LEFT\",\n",
    "    wrapStrategy=\"WRAP\",\n",
    ")\n",
    "\n",
    "format_cell_range(worksheet, \"F:G\", wrap_fmt)"
   ]
  },
  {
   "cell_type": "code",
   "execution_count": null,
   "id": "c295b21c-296b-4b74-9ddd-ee721b90b4b5",
   "metadata": {},
   "outputs": [],
   "source": [
    "rule = ConditionalFormatRule(\n",
    "    ranges=[GridRange.from_a1_range(\"H\", worksheet)],\n",
    "    booleanRule=BooleanRule(\n",
    "        condition=BooleanCondition(\"TEXT_EQ\", [\"Kun UD\"]),\n",
    "        format=CellFormat(textFormat=textFormat(foregroundColor=Color(1, 0, 0))),\n",
    "    ),\n",
    ")\n",
    "rule2 = ConditionalFormatRule(\n",
    "    ranges=[GridRange.from_a1_range(\"H\", worksheet)],\n",
    "    booleanRule=BooleanRule(\n",
    "        condition=BooleanCondition(\"TEXT_EQ\", [\"UD og eInnsyn\"]),\n",
    "        format=CellFormat(\n",
    "            textFormat=textFormat(foregroundColor=Color(38 / 255, 82 / 255, 61 / 255))\n",
    "        ),\n",
    "    ),\n",
    ")\n",
    "\n",
    "rules = get_conditional_format_rules(worksheet)\n",
    "rules.clear()\n",
    "rules.append(rule)\n",
    "rules.append(rule2)\n",
    "rules.save();"
   ]
  }
 ],
 "metadata": {
  "kernelspec": {
   "display_name": "Python 3 (ipykernel)",
   "language": "python",
   "name": "python3"
  },
  "language_info": {
   "codemirror_mode": {
    "name": "ipython",
    "version": 3
   },
   "file_extension": ".py",
   "mimetype": "text/x-python",
   "name": "python",
   "nbconvert_exporter": "python",
   "pygments_lexer": "ipython3",
   "version": "3.8.12"
  }
 },
 "nbformat": 4,
 "nbformat_minor": 5
}
