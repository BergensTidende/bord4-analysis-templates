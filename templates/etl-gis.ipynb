{
 "cells": [
  {
   "cell_type": "markdown",
   "id": "7ea914eb-8f27-4e6c-bea9-00da1699473d",
   "metadata": {},
   "source": [
    "# Header\n",
    "Important information that helps you understand this notebook in four months time"
   ]
  },
  {
   "cell_type": "code",
   "execution_count": 2,
   "id": "d53cec13-5d55-4e2f-9fae-fc8def565573",
   "metadata": {},
   "outputs": [],
   "source": [
    "# Notebook config, enviroment and logging\n",
    "\n",
    "import os\n",
    "import sys\n",
    "\n",
    "import logging\n",
    "from dotenv import load_dotenv\n",
    "\n",
    "import pakkenellik.config as conf\n",
    "from pakkenellik.log import logger\n",
    "\n",
    "# Add module path and load config\n",
    "module_path = os.path.abspath(os.path.join(\"..\"))\n",
    "if module_path not in sys.path:\n",
    "    sys.path.append(module_path)\n",
    "\n",
    "# Autoreload extension\n",
    "if \"autoreload\" not in get_ipython().extension_manager.loaded:\n",
    "    %load_ext autoreload\n",
    "\n",
    "%autoreload 2\n",
    "\n",
    "# Load the .env file into local env\n",
    "load_dotenv()\n",
    "\n",
    "# Create the config\n",
    "config = conf.Config(module_path)\n",
    "\n",
    "# Enable logging and crank up log level to DEBUG.\n",
    "# This is particularly useful when developing code in your project module and using it from a notebook.\n",
    "logger.setLevel(logging.INFO)"
   ]
  },
  {
   "cell_type": "code",
   "execution_count": 3,
   "id": "6dab47f9-1c2c-4496-b070-6bfd93e1ca61",
   "metadata": {},
   "outputs": [],
   "source": [
    "## Data manipulation\n",
    "import pandas as pd\n",
    "import numpy as np\n",
    "\n",
    "# Options for pandas\n",
    "pd.options.display.max_columns = 50\n",
    "pd.options.display.max_rows = 30"
   ]
  },
  {
   "cell_type": "code",
   "execution_count": 4,
   "id": "094602e3-ec14-4bf9-a31c-7e30ecd3ad3c",
   "metadata": {},
   "outputs": [],
   "source": [
    "# WFS and Geopandas\n",
    "from owslib.wfs import WebFeatureService\n",
    "import geopandas as gpd\n",
    "from requests import Request\n",
    "\n",
    "# For more gis-action check out: https://autogis-site.readthedocs.io/en/latest/index.html"
   ]
  },
  {
   "cell_type": "code",
   "execution_count": 5,
   "id": "f18fcddd-a7c3-4f58-a43a-809ff48e19ca",
   "metadata": {},
   "outputs": [
    {
     "name": "stdout",
     "output_type": "stream",
     "text": [
      "bergrettigheter\n",
      "2.0.0\n",
      "['GetCapabilities', 'DescribeFeatureType', 'ListStoredQueries', 'DescribeStoredQueries', 'GetFeature', 'GetPropertyValue', 'version', 'srsName', 'outputFormat', 'resolve', 'ImplementsSimpleWFS', 'ImplementsBasicWFS', 'ImplementsTransactionalWFS', 'ImplementsLockingWFS', 'KVPEncoding', 'XMLEncoding', 'SOAPEncoding', 'ImplementsInheritance', 'ImplementsRemoteResolve', 'ImplementsResultPaging', 'ImplementsStandardJoins', 'ImplementsSpatialJoins', 'ImplementsTemporalJoins', 'ImplementsFeatureVersioning', 'ManageStoredQueries', 'ResolveLocalScope', 'QueryExpressions']\n",
      "['app:Bergrettighet', 'app:BergrettighetGrense']\n",
      "***LAYERS***\n",
      "{'auth': <Authentication shared=False username=None password=None cert=None verify=True auth_delegate=None>, 'headers': None, 'id': 'app:Bergrettighet', 'title': 'app:Bergrettighet', 'abstract': None, 'keywords': [], 'boundingBoxWGS84': (5.050172, 58.295662, 30.081782, 70.470158), 'boundingBox': (5.050172, 58.295662, 30.081782, 70.470158, urn:ogc:def:crs:EPSG::4326), 'crsOptions': [urn:ogc:def:crs:EPSG::4258, urn:ogc:def:crs:EPSG::25832, urn:ogc:def:crs:EPSG::25833, urn:ogc:def:crs:EPSG::25835, urn:ogc:def:crs:EPSG::3035, urn:ogc:def:crs:EPSG::3044, urn:ogc:def:crs:EPSG::3045, urn:ogc:def:crs:EPSG::3047, urn:ogc:def:crs:EPSG::4326, urn:ogc:def:crs:EPSG::900913, urn:ogc:def:crs:EPSG::3857, urn:ogc:def:crs:EPSG::3575, urn:ogc:def:crs:EPSG::3034], 'verbOptions': [], 'styles': None, 'timepositions': None, 'defaulttimeposition': None, 'metadataUrls': []}\n",
      "{'auth': <Authentication shared=False username=None password=None cert=None verify=True auth_delegate=None>, 'headers': None, 'id': 'app:BergrettighetGrense', 'title': 'app:BergrettighetGrense', 'abstract': None, 'keywords': [], 'boundingBoxWGS84': (5.050172, 58.295662, 30.081782, 70.470158), 'boundingBox': (5.050172, 58.295662, 30.081782, 70.470158, urn:ogc:def:crs:EPSG::4326), 'crsOptions': [urn:ogc:def:crs:EPSG::4258, urn:ogc:def:crs:EPSG::25832, urn:ogc:def:crs:EPSG::25833, urn:ogc:def:crs:EPSG::25835, urn:ogc:def:crs:EPSG::3035, urn:ogc:def:crs:EPSG::3044, urn:ogc:def:crs:EPSG::3045, urn:ogc:def:crs:EPSG::3047, urn:ogc:def:crs:EPSG::4326, urn:ogc:def:crs:EPSG::900913, urn:ogc:def:crs:EPSG::3857, urn:ogc:def:crs:EPSG::3575, urn:ogc:def:crs:EPSG::3034], 'verbOptions': [], 'styles': None, 'timepositions': None, 'defaulttimeposition': None, 'metadataUrls': []}\n"
     ]
    }
   ],
   "source": [
    "# Put the WFS url in a variable\n",
    "wfsUrl = \"https://wfs.geonorge.no/skwms1/wfs.bergrettigheter?request=GetCapabilities&service=WFS\"\n",
    "\n",
    "# Create a WFS object\n",
    "wfs = WebFeatureService(url=wfsUrl, version='2.0.0')\n",
    "\n",
    "# Service provider \n",
    "print(wfs.identification.title)\n",
    "\n",
    "# Get WFS version\n",
    "print(wfs.version)\n",
    "\n",
    "# Available methods\n",
    "print([operation.name for operation in wfs.operations])\n",
    "\n",
    "# Available data layers\n",
    "print(list(wfs.contents))\n",
    "\n",
    "# Print all metadata of all layers\n",
    "print(\"***LAYERS***\")\n",
    "for layer, meta in wfs.items():\n",
    "    print(meta.__dict__)"
   ]
  },
  {
   "cell_type": "code",
   "execution_count": 6,
   "id": "ebff26af-f381-4691-a25c-33bb413a8218",
   "metadata": {},
   "outputs": [],
   "source": [
    "layer_name = list(wfs.contents)[0]"
   ]
  },
  {
   "cell_type": "code",
   "execution_count": 7,
   "id": "e84738ab-7daa-4021-b55c-33b3f495f750",
   "metadata": {},
   "outputs": [],
   "source": [
    "# Get the features\n",
    "response = wfs.getfeature(typename=layer_name)\n",
    "# Save them to disk\n",
    "with open(config.get_processed_file(\"etl_bergrettigheter.gml\"), 'wb') as file:\n",
    "    file.write(response.read())"
   ]
  },
  {
   "cell_type": "markdown",
   "id": "a5f1c54e-59cb-46d4-8143-983a2026b276",
   "metadata": {},
   "source": [
    "### Make the file geosjon so geopandas can read it\n",
    "\n",
    "After some testing we've determined that this is the solution that works most consistent. \n",
    "\n",
    "Important note: If you have Postres.app on your computer, make sure to add homebrew to path after Postgres. If not your mac will use gdal from Postres, and that does not support gml files. "
   ]
  },
  {
   "cell_type": "code",
   "execution_count": 8,
   "id": "20cc9c47-9ed6-4ff8-bc19-fdb038d9c689",
   "metadata": {},
   "outputs": [],
   "source": [
    "! ogr2ogr -f GeoJSON {config.get_processed_file(\"etl_bergrettigheter.geojson\")} {config.get_processed_file(\"etl_bergrettigheter.gml\")}"
   ]
  },
  {
   "cell_type": "code",
   "execution_count": 9,
   "id": "92f0f7b6-faba-4819-b3d4-4cf12a1da7b2",
   "metadata": {},
   "outputs": [
    {
     "name": "stdout",
     "output_type": "stream",
     "text": [
      "<class 'geopandas.geodataframe.GeoDataFrame'>\n"
     ]
    },
    {
     "data": {
      "text/plain": [
       "<AxesSubplot: >"
      ]
     },
     "execution_count": 9,
     "metadata": {},
     "output_type": "execute_result"
    },
    {
     "data": {
      "image/png": "[encoded data removed]",
      "text/plain": [
       "<Figure size 640x480 with 1 Axes>"
      ]
     },
     "metadata": {},
     "output_type": "display_data"
    }
   ],
   "source": [
    "# Read in again with GeoPandas\n",
    "bergrettigheter_gdf = gpd.read_file(config.get_processed_file(\"etl_bergrettigheter.geojson\"))\n",
    "\n",
    "# Inspect and plot to get a quick view\n",
    "print(type(bergrettigheter_gdf))\n",
    "bergrettigheter_gdf.plot()"
   ]
  },
  {
   "cell_type": "code",
   "execution_count": null,
   "id": "e50c035b-b78a-4254-bb71-a37c40a7cd0d",
   "metadata": {},
   "outputs": [],
   "source": []
  }
 ],
 "metadata": {
  "kernelspec": {
   "display_name": "Python 3 (ipykernel)",
   "language": "python",
   "name": "python3"
  },
  "language_info": {
   "codemirror_mode": {
    "name": "ipython",
    "version": 3
   },
   "file_extension": ".py",
   "mimetype": "text/x-python",
   "name": "python",
   "nbconvert_exporter": "python",
   "pygments_lexer": "ipython3",
   "version": "3.10.3"
  },
  "vscode": {
   "interpreter": {
    "hash": "c46d5fffc6f79326d3d68e3aa9562d374526d3c8c0a1c9508d1a6b545be1a57d"
   }
  }
 },
 "nbformat": 4,
 "nbformat_minor": 5
}
