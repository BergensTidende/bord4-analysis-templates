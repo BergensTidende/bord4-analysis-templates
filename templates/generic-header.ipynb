{
 "cells": [
  {
   "cell_type": "markdown",
   "id": "7ea914eb-8f27-4e6c-bea9-00da1699473d",
   "metadata": {},
   "source": [
    "# Header\n",
    "Important information that helps you understand this notebook in four months time"
   ]
  },
  {
   "cell_type": "code",
   "execution_count": 1,
   "id": "d53cec13-5d55-4e2f-9fae-fc8def565573",
   "metadata": {},
   "outputs": [],
   "source": [
    "# Notebook config, enviroment and logging\n",
    "\n",
    "import os\n",
    "import sys\n",
    "\n",
    "import logging\n",
    "from dotenv import load_dotenv\n",
    "\n",
    "import pakkenellik.config as conf\n",
    "from pakkenellik.log import logger\n",
    "\n",
    "# Add module path and load config\n",
    "module_path = os.path.abspath(os.path.join(\"..\"))\n",
    "if module_path not in sys.path:\n",
    "    sys.path.append(module_path)\n",
    "\n",
    "# Autoreload extension\n",
    "if \"autoreload\" not in get_ipython().extension_manager.loaded:\n",
    "    %load_ext autoreload\n",
    "\n",
    "%autoreload 2\n",
    "\n",
    "# Load the .env file into local env\n",
    "load_dotenv()\n",
    "\n",
    "# Create the config\n",
    "config = conf.Config(module_path)\n",
    "\n",
    "# Enable logging and crank up log level to DEBUG.\n",
    "# This is particularly useful when developing code in your project module and using it from a notebook.\n",
    "logger.setLevel(logging.INFO)"
   ]
  },
  {
   "cell_type": "code",
   "execution_count": 2,
   "id": "6dab47f9-1c2c-4496-b070-6bfd93e1ca61",
   "metadata": {},
   "outputs": [],
   "source": [
    "## Data manipulation\n",
    "import pandas as pd\n",
    "import numpy as np\n",
    "\n",
    "# Options for pandas\n",
    "pd.options.display.max_columns = 50\n",
    "pd.options.display.max_rows = 30"
   ]
  },
  {
   "cell_type": "code",
   "execution_count": null,
   "id": "094602e3-ec14-4bf9-a31c-7e30ecd3ad3c",
   "metadata": {},
   "outputs": [],
   "source": []
  }
 ],
 "metadata": {
  "kernelspec": {
   "display_name": "Python 3 (ipykernel)",
   "language": "python",
   "name": "python3"
  },
  "language_info": {
   "codemirror_mode": {
    "name": "ipython",
    "version": 3
   },
   "file_extension": ".py",
   "mimetype": "text/x-python",
   "name": "python",
   "nbconvert_exporter": "python",
   "pygments_lexer": "ipython3",
   "version": "3.10.3"
  },
  "vscode": {
   "interpreter": {
    "hash": "c46d5fffc6f79326d3d68e3aa9562d374526d3c8c0a1c9508d1a6b545be1a57d"
   }
  }
 },
 "nbformat": 4,
 "nbformat_minor": 5
}
