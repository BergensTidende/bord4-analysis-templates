{
 "cells": [
  {
   "cell_type": "markdown",
   "id": "7ea914eb-8f27-4e6c-bea9-00da1699473d",
   "metadata": {},
   "source": [
    "# Header\n",
    "Important information that helps you understand this notebook in four months time"
   ]
  },
  {
   "cell_type": "code",
   "execution_count": 1,
   "id": "d53cec13-5d55-4e2f-9fae-fc8def565573",
   "metadata": {},
   "outputs": [],
   "source": [
    "import os\n",
    "import sys\n",
    "PROJECT_DIRECTORY = os.path.realpath(os.path.curdir)\n",
    "\n",
    "module_path = os.path.abspath(os.path.join(\"..\"))\n",
    "if module_path not in sys.path:\n",
    "    sys.path.append(module_path)\n",
    "\n",
    "# Autoreload extension\n",
    "if 'autoreload' not in get_ipython().extension_manager.loaded:\n",
    "    %load_ext autoreload\n",
    "    \n",
    "%autoreload 2"
   ]
  },
  {
   "cell_type": "code",
   "execution_count": 2,
   "id": "6dab47f9-1c2c-4496-b070-6bfd93e1ca61",
   "metadata": {},
   "outputs": [],
   "source": [
    "## Data manipulation\n",
    "import pandas as pd\n",
    "import numpy as np\n",
    "\n",
    "# Options for pandas\n",
    "pd.options.display.max_columns = 50\n",
    "pd.options.display.max_rows = 30\n",
    "\n",
    "from src.dataframe.clean_column_headers import clean_column_headers"
   ]
  },
  {
   "cell_type": "markdown",
   "id": "81389934-4c9a-48a4-b891-c00aa63fecb4",
   "metadata": {},
   "source": [
    "\n",
    "## Logging\n",
    "\n",
    "Enable logging and crank up log level to DEBUG. This is particularly useful when developing code in your project module and using it from a notebook.\n"
   ]
  },
  {
   "cell_type": "code",
   "execution_count": 3,
   "id": "f5b518f9-1fdb-4584-a6b4-9bc21481678e",
   "metadata": {
    "tags": []
   },
   "outputs": [],
   "source": [
    "import logging\n",
    "from src.log import logger\n",
    "\n",
    "logger.setLevel(logging.DEBUG)"
   ]
  },
  {
   "cell_type": "code",
   "execution_count": null,
   "id": "094602e3-ec14-4bf9-a31c-7e30ecd3ad3c",
   "metadata": {},
   "outputs": [],
   "source": []
  }
 ],
 "metadata": {
  "kernelspec": {
   "display_name": "Python 3 (ipykernel)",
   "language": "python",
   "name": "python3"
  },
  "language_info": {
   "codemirror_mode": {
    "name": "ipython",
    "version": 3
   },
   "file_extension": ".py",
   "mimetype": "text/x-python",
   "name": "python",
   "nbconvert_exporter": "python",
   "pygments_lexer": "ipython3",
   "version": "3.8.12"
  }
 },
 "nbformat": 4,
 "nbformat_minor": 5
}
