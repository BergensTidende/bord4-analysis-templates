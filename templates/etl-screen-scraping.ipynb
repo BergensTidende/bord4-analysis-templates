{
 "cells": [
  {
   "cell_type": "markdown",
   "id": "7ea914eb-8f27-4e6c-bea9-00da1699473d",
   "metadata": {},
   "source": [
    "# Screen scraping\n",
    "Sometimes we need to fetch the data ourselves.\n",
    "\n",
    "This is an example that fetches a table from Bergen municipality's budget for 2023.\n",
    "\n",
    "It uses selesium to get the page, and then BeautifulSoup for parsing.\n",
    "\n",
    "Example inspired by https://medium.com/free-code-camp/better-web-scraping-in-python-with-selenium-beautiful-soup-and-pandas-d6390592e251"
   ]
  },
  {
   "cell_type": "code",
   "execution_count": 26,
   "id": "d53cec13-5d55-4e2f-9fae-fc8def565573",
   "metadata": {},
   "outputs": [
    {
     "name": "stdout",
     "output_type": "stream",
     "text": [
      "The autoreload extension is already loaded. To reload it, use:\n",
      "  %reload_ext autoreload\n"
     ]
    }
   ],
   "source": [
    "# Notebook config, enviroment and logging\n",
    "import os\n",
    "import sys\n",
    "\n",
    "import logging\n",
    "from dotenv import load_dotenv\n",
    "\n",
    "import pakkenellik.config as conf\n",
    "from pakkenellik.log import logger\n",
    "\n",
    "# Add module path and load config\n",
    "module_path = os.path.abspath(os.path.join(\"..\"))\n",
    "if module_path not in sys.path:\n",
    "    sys.path.append(module_path)\n",
    "\n",
    "# Autoreload extension\n",
    "if \"autoreload\" not in get_ipython().extension_manager.loaded:\n",
    "    %load_ext autoreload\n",
    "\n",
    "%autoreload 2\n",
    "\n",
    "# Load the .env file into local env\n",
    "load_dotenv()\n",
    "\n",
    "# Create the config\n",
    "config = conf.Config(module_path)\n",
    "\n",
    "# Enable logging and crank up log level to DEBUG.\n",
    "# This is particularly useful when developing code in your project module and using it from a notebook.\n",
    "logger.setLevel(logging.INFO)"
   ]
  },
  {
   "cell_type": "code",
   "execution_count": 98,
   "id": "6dab47f9-1c2c-4496-b070-6bfd93e1ca61",
   "metadata": {},
   "outputs": [],
   "source": [
    "## Data manipulation and scraping\n",
    "import pandas as pd\n",
    "from bs4 import BeautifulSoup\n",
    "from selenium import webdriver\n",
    "from selenium.webdriver.common.by import By\n",
    "import requests\n",
    "\n",
    "from pakkenellik.dataframe.clean_column_headers import clean_column_headers\n",
    "\n",
    "# Options for pandas\n",
    "pd.options.display.max_columns = 50\n",
    "pd.options.display.max_rows = 30"
   ]
  },
  {
   "cell_type": "markdown",
   "id": "51bfa3ec-f533-49df-abd7-a3f380513065",
   "metadata": {},
   "source": [
    "## Fetch url"
   ]
  },
  {
   "cell_type": "code",
   "execution_count": 15,
   "id": "fd009871-3e2f-4ef6-b22b-a4ffa52dfab3",
   "metadata": {},
   "outputs": [
    {
     "name": "stdout",
     "output_type": "stream",
     "text": [
      "\u001b[96m[D] 2023-01-03 14:43:26: driver not found in PATH, trying Selenium Manager\u001b[0m\n",
      "\u001b[96m[D] 2023-01-03 14:43:26: Executing: /Users/Lasse.Lambrechts@bt.no/Library/Caches/pypoetry/virtualenvs/bord4-analysis-templates-1LN8Krm6-py3.10/lib/python3.10/site-packages/selenium/webdriver/common/macos/selenium-manager --browser firefox\u001b[0m\n",
      "\u001b[96m[D] 2023-01-03 14:43:26: Using driver at: /Users/Lasse.Lambrechts@bt.no/.cache/selenium/geckodriver/mac64/0.32.0/geckodriver\u001b[0m\n",
      "\u001b[96m[D] 2023-01-03 14:43:26: Started executable: `geckodriver` in a child process with pid: 15406\u001b[0m\n",
      "\u001b[96m[D] 2023-01-03 14:43:27: POST http://localhost:56295/session {\"capabilities\": {\"firstMatch\": [{}], \"alwaysMatch\": {\"browserName\": \"firefox\", \"acceptInsecureCerts\": true, \"moz:debuggerAddress\": true, \"pageLoadStrategy\": \"normal\"}}}\u001b[0m\n",
      "\u001b[96m[D] 2023-01-03 14:43:27: Starting new HTTP connection (1): localhost:56295\u001b[0m\n",
      "\u001b[96m[D] 2023-01-03 14:43:29: http://localhost:56295 \"POST /session HTTP/1.1\" 200 798\u001b[0m\n",
      "\u001b[96m[D] 2023-01-03 14:43:29: Remote response: status=200 | data={\"value\":{\"sessionId\":\"e8aeb217-a9ba-4d0a-a2fd-a6e2ad36e272\",\"capabilities\":{\"acceptInsecureCerts\":true,\"browserName\":\"firefox\",\"browserVersion\":\"108.0.1\",\"moz:accessibilityChecks\":false,\"moz:buildID\":\"20221215175817\",\"moz:debuggerAddress\":\"127.0.0.1:56296\",\"moz:geckodriverVersion\":\"0.32.0\",\"moz:headless\":false,\"moz:platformVersion\":\"21.6.0\",\"moz:processID\":15412,\"moz:profile\":\"/var/folders/x2/vpj7nmc92018vsw0b38tz5p80000gp/T/rust_mozprofileFNIt8X\",\"moz:shutdownTimeout\":60000,\"moz:useNonSpecCompliantPointerOrigin\":false,\"moz:webdriverClick\":true,\"moz:windowless\":false,\"pageLoadStrategy\":\"normal\",\"platformName\":\"mac\",\"proxy\":{},\"setWindowRect\":true,\"strictFileInteractability\":false,\"timeouts\":{\"implicit\":0,\"pageLoad\":300000,\"script\":30000},\"unhandledPromptBehavior\":\"dismiss and notify\"}}} | headers=HTTPHeaderDict({'content-type': 'application/json; charset=utf-8', 'cache-control': 'no-cache', 'content-length': '798', 'date': 'Tue, 03 Jan 2023 13:43:27 GMT'})\u001b[0m\n",
      "\u001b[96m[D] 2023-01-03 14:43:29: Finished Request\u001b[0m\n",
      "\u001b[96m[D] 2023-01-03 14:43:29: POST http://localhost:56295/session/e8aeb217-a9ba-4d0a-a2fd-a6e2ad36e272/timeouts {\"implicit\": 30000}\u001b[0m\n",
      "\u001b[96m[D] 2023-01-03 14:43:29: http://localhost:56295 \"POST /session/e8aeb217-a9ba-4d0a-a2fd-a6e2ad36e272/timeouts HTTP/1.1\" 200 14\u001b[0m\n",
      "\u001b[96m[D] 2023-01-03 14:43:29: Remote response: status=200 | data={\"value\":null} | headers=HTTPHeaderDict({'content-type': 'application/json; charset=utf-8', 'cache-control': 'no-cache', 'content-length': '14', 'date': 'Tue, 03 Jan 2023 13:43:29 GMT'})\u001b[0m\n",
      "\u001b[96m[D] 2023-01-03 14:43:29: Finished Request\u001b[0m\n",
      "\u001b[96m[D] 2023-01-03 14:43:29: POST http://localhost:56295/session/e8aeb217-a9ba-4d0a-a2fd-a6e2ad36e272/url {\"url\": \"https://pub.framsikt.net/2023/bergen/bm-2023-kortversjon_23-26_/#/\"}\u001b[0m\n",
      "\u001b[96m[D] 2023-01-03 14:43:32: http://localhost:56295 \"POST /session/e8aeb217-a9ba-4d0a-a2fd-a6e2ad36e272/url HTTP/1.1\" 200 14\u001b[0m\n",
      "\u001b[96m[D] 2023-01-03 14:43:32: Remote response: status=200 | data={\"value\":null} | headers=HTTPHeaderDict({'content-type': 'application/json; charset=utf-8', 'cache-control': 'no-cache', 'content-length': '14', 'date': 'Tue, 03 Jan 2023 13:43:29 GMT'})\u001b[0m\n",
      "\u001b[96m[D] 2023-01-03 14:43:32: Finished Request\u001b[0m\n"
     ]
    }
   ],
   "source": [
    "# launch url\n",
    "url = \"https://pub.framsikt.net/2023/bergen/bm-2023-kortversjon_23-26_/#/\"\n",
    "\n",
    "# create a new Firefox session\n",
    "driver = webdriver.Firefox()\n",
    "driver.implicitly_wait(30)\n",
    "driver.get(url)"
   ]
  },
  {
   "cell_type": "code",
   "execution_count": 23,
   "id": "7efa6836-6e22-4589-ad46-d88d259d37b6",
   "metadata": {},
   "outputs": [
    {
     "name": "stdout",
     "output_type": "stream",
     "text": [
      "\u001b[96m[D] 2023-01-03 15:24:56: POST http://localhost:56295/session/e8aeb217-a9ba-4d0a-a2fd-a6e2ad36e272/element {\"using\": \"xpath\", \"value\": \"//a[div/h3[text()='01B-Skole']]\"}\u001b[0m\n",
      "\u001b[96m[D] 2023-01-03 15:24:56: http://localhost:56295 \"POST /session/e8aeb217-a9ba-4d0a-a2fd-a6e2ad36e272/element HTTP/1.1\" 200 88\u001b[0m\n",
      "\u001b[96m[D] 2023-01-03 15:24:56: Remote response: status=200 | data={\"value\":{\"element-6066-11e4-a52e-4f735466cecf\":\"9c268c2d-b0fc-44f2-8c9b-089b49238d83\"}} | headers=HTTPHeaderDict({'content-type': 'application/json; charset=utf-8', 'cache-control': 'no-cache', 'content-length': '88', 'date': 'Tue, 03 Jan 2023 14:24:56 GMT'})\u001b[0m\n",
      "\u001b[96m[D] 2023-01-03 15:24:56: Finished Request\u001b[0m\n"
     ]
    }
   ],
   "source": [
    "# After opening the url above, Selenium clicks the specific budget link for schools\n",
    "school_link = driver.find_element(By.XPATH, \"//a[div/h3[text()='01B-Skole']]\")\n",
    "school_link.click()"
   ]
  },
  {
   "cell_type": "markdown",
   "id": "70bc9163-ee84-449d-b7ee-a661b310a410",
   "metadata": {},
   "source": [
    "## Beautiful Soup "
   ]
  },
  {
   "cell_type": "code",
   "execution_count": 27,
   "id": "c57731f9-dcb0-400a-97ff-93168c2f8732",
   "metadata": {},
   "outputs": [],
   "source": [
    "# Selenium hands the page source to Beautiful Soup\n",
    "beta_soup = BeautifulSoup(driver.page_source, \"lxml\")"
   ]
  },
  {
   "cell_type": "code",
   "execution_count": 31,
   "id": "9c737662-859d-4d2b-b433-e975bdc004f8",
   "metadata": {},
   "outputs": [],
   "source": [
    "# Find the h3 tag with text Investeringsbudsjett and find the tables\n",
    "h3_tag = beta_soup.find(attrs={\"tooltiptext\": \"Investeringsbudsjett\"})\n",
    "tables = h3_tag.findAll(\"table\")"
   ]
  },
  {
   "cell_type": "code",
   "execution_count": 40,
   "id": "e9c66314-366d-4f67-8397-b4465e7a23c3",
   "metadata": {},
   "outputs": [],
   "source": [
    "df = pd.read_html(str(tables), header=0)"
   ]
  },
  {
   "cell_type": "code",
   "execution_count": 99,
   "id": "88c4b9f8-f1c1-4d11-9876-ce2a1a28c067",
   "metadata": {},
   "outputs": [],
   "source": [
    "# The first dataframe contains the headers over two rows\n",
    "# So lets merge them together\n",
    "line1 = df[0].iloc[0].reset_index()\n",
    "line1.columns = [\"first\", \"second\"]\n",
    "\n",
    "# replacing to get rid of annoying values\n",
    "line1 = line1.replace(\"Unnamed: 0\", \"\")\n",
    "line1 = line1.replace(\"\\.\\d\", \"\", regex=True)\n",
    "\n",
    "line1[\"column_header\"] = line1[\"first\"].astype(str) + \" \" + line1[\"second\"].astype(str)\n",
    "\n",
    "# Use it for better column headers\n",
    "df[1].columns = line1.column_header.to_list()\n",
    "\n",
    "# Clean the column headers\n",
    "df[1] = clean_column_headers(df[1])"
   ]
  },
  {
   "cell_type": "code",
   "execution_count": 101,
   "id": "dab74e92-3d4d-411b-8205-fdda7492275e",
   "metadata": {},
   "outputs": [],
   "source": [
    "school_df = df[1]"
   ]
  },
  {
   "cell_type": "code",
   "execution_count": 102,
   "id": "ecd2955d-6015-4231-bf6e-6e9ae2bf0463",
   "metadata": {},
   "outputs": [],
   "source": [
    "driver.quit()"
   ]
  },
  {
   "cell_type": "code",
   "execution_count": null,
   "id": "5a6f6bda-b1c8-43db-b2bf-3eca8ddfe7f2",
   "metadata": {},
   "outputs": [],
   "source": []
  }
 ],
 "metadata": {
  "kernelspec": {
   "display_name": "Python 3 (ipykernel)",
   "language": "python",
   "name": "python3"
  },
  "language_info": {
   "codemirror_mode": {
    "name": "ipython",
    "version": 3
   },
   "file_extension": ".py",
   "mimetype": "text/x-python",
   "name": "python",
   "nbconvert_exporter": "python",
   "pygments_lexer": "ipython3",
   "version": "3.10.3"
  },
  "vscode": {
   "interpreter": {
    "hash": "c46d5fffc6f79326d3d68e3aa9562d374526d3c8c0a1c9508d1a6b545be1a57d"
   }
  }
 },
 "nbformat": 4,
 "nbformat_minor": 5
}
