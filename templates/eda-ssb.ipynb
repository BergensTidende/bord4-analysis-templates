{
 "cells": [
  {
   "cell_type": "markdown",
   "id": "1277a09c-80cf-4698-9084-84d6293a73dd",
   "metadata": {},
   "source": [
    "# EDA SSB\n",
    "Show how to use the SSB api"
   ]
  },
  {
   "cell_type": "code",
   "execution_count": 3,
   "id": "2b2b78fb-3de7-4fc8-8c29-42e729230af1",
   "metadata": {},
   "outputs": [],
   "source": [
    "import os\n",
    "import sys\n",
    "PROJECT_DIRECTORY = os.path.realpath(os.path.curdir)\n",
    "\n",
    "module_path = os.path.abspath(os.path.join(\"..\"))\n",
    "if module_path not in sys.path:\n",
    "    sys.path.append(module_path)\n",
    "\n",
    "# Autoreload extension\n",
    "if 'autoreload' not in get_ipython().extension_manager.loaded:\n",
    "    %load_ext autoreload\n",
    "    \n",
    "%autoreload 2"
   ]
  },
  {
   "cell_type": "code",
   "execution_count": 4,
   "id": "cb3a37b4-123d-42d0-8917-9fb33bece25d",
   "metadata": {},
   "outputs": [],
   "source": [
    "## Data manipulation\n",
    "import pandas as pd\n",
    "import numpy as np\n",
    "\n",
    "# Options for pandas\n",
    "pd.options.display.max_columns = 50\n",
    "pd.options.display.max_rows = 30\n",
    "\n",
    "from src.dataframe import clean_column_headers"
   ]
  },
  {
   "cell_type": "markdown",
   "id": "95dc9de5-5e13-40f3-8124-64d660e4c818",
   "metadata": {},
   "source": [
    "\n",
    "## Logging\n",
    "\n",
    "Enable logging and crank up log level to DEBUG. This is particularly useful when developing code in your project module and using it from a notebook.\n"
   ]
  },
  {
   "cell_type": "code",
   "execution_count": 5,
   "id": "94e8574c-f02d-41bc-8b9c-2c2566d272c2",
   "metadata": {},
   "outputs": [],
   "source": [
    "import logging\n",
    "from src.log import logger\n",
    "\n",
    "logger.setLevel(logging.DEBUG)"
   ]
  },
  {
   "cell_type": "code",
   "execution_count": 12,
   "id": "73e14376-2118-4bfc-a4ef-51b07a1bca63",
   "metadata": {},
   "outputs": [],
   "source": [
    "from etl.etl_ssb_api import fetch_data"
   ]
  },
  {
   "cell_type": "code",
   "execution_count": 14,
   "id": "4fe940eb-c9f3-4251-8723-ba1b74653831",
   "metadata": {},
   "outputs": [
    {
     "data": {
      "text/html": [
       "<div>\n",
       "<style scoped>\n",
       "    .dataframe tbody tr th:only-of-type {\n",
       "        vertical-align: middle;\n",
       "    }\n",
       "\n",
       "    .dataframe tbody tr th {\n",
       "        vertical-align: top;\n",
       "    }\n",
       "\n",
       "    .dataframe thead th {\n",
       "        text-align: right;\n",
       "    }\n",
       "</style>\n",
       "<table border=\"1\" class=\"dataframe\">\n",
       "  <thead>\n",
       "    <tr style=\"text-align: right;\">\n",
       "      <th></th>\n",
       "      <th>varegruppe</th>\n",
       "      <th>statistikkvariabel</th>\n",
       "      <th>uke</th>\n",
       "      <th>value</th>\n",
       "    </tr>\n",
       "  </thead>\n",
       "  <tbody>\n",
       "    <tr>\n",
       "      <th>0</th>\n",
       "      <td>Fersk oppalen laks</td>\n",
       "      <td>Vekt (tonn)</td>\n",
       "      <td>2021U12</td>\n",
       "      <td>20495.00</td>\n",
       "    </tr>\n",
       "    <tr>\n",
       "      <th>1</th>\n",
       "      <td>Fersk oppalen laks</td>\n",
       "      <td>Vekt (tonn)</td>\n",
       "      <td>2021U13</td>\n",
       "      <td>14286.00</td>\n",
       "    </tr>\n",
       "    <tr>\n",
       "      <th>2</th>\n",
       "      <td>Fersk oppalen laks</td>\n",
       "      <td>Vekt (tonn)</td>\n",
       "      <td>2021U14</td>\n",
       "      <td>15144.00</td>\n",
       "    </tr>\n",
       "    <tr>\n",
       "      <th>3</th>\n",
       "      <td>Fersk oppalen laks</td>\n",
       "      <td>Vekt (tonn)</td>\n",
       "      <td>2021U15</td>\n",
       "      <td>17979.00</td>\n",
       "    </tr>\n",
       "    <tr>\n",
       "      <th>4</th>\n",
       "      <td>Fersk oppalen laks</td>\n",
       "      <td>Vekt (tonn)</td>\n",
       "      <td>2021U16</td>\n",
       "      <td>16234.00</td>\n",
       "    </tr>\n",
       "    <tr>\n",
       "      <th>...</th>\n",
       "      <td>...</td>\n",
       "      <td>...</td>\n",
       "      <td>...</td>\n",
       "      <td>...</td>\n",
       "    </tr>\n",
       "    <tr>\n",
       "      <th>207</th>\n",
       "      <td>Frosen oppalen laks</td>\n",
       "      <td>Kilopris (kr)</td>\n",
       "      <td>2022U08</td>\n",
       "      <td>72.47</td>\n",
       "    </tr>\n",
       "    <tr>\n",
       "      <th>208</th>\n",
       "      <td>Frosen oppalen laks</td>\n",
       "      <td>Kilopris (kr)</td>\n",
       "      <td>2022U09</td>\n",
       "      <td>73.06</td>\n",
       "    </tr>\n",
       "    <tr>\n",
       "      <th>209</th>\n",
       "      <td>Frosen oppalen laks</td>\n",
       "      <td>Kilopris (kr)</td>\n",
       "      <td>2022U10</td>\n",
       "      <td>72.26</td>\n",
       "    </tr>\n",
       "    <tr>\n",
       "      <th>210</th>\n",
       "      <td>Frosen oppalen laks</td>\n",
       "      <td>Kilopris (kr)</td>\n",
       "      <td>2022U11</td>\n",
       "      <td>68.99</td>\n",
       "    </tr>\n",
       "    <tr>\n",
       "      <th>211</th>\n",
       "      <td>Frosen oppalen laks</td>\n",
       "      <td>Kilopris (kr)</td>\n",
       "      <td>2022U12</td>\n",
       "      <td>83.13</td>\n",
       "    </tr>\n",
       "  </tbody>\n",
       "</table>\n",
       "<p>212 rows × 4 columns</p>\n",
       "</div>"
      ],
      "text/plain": [
       "              varegruppe statistikkvariabel      uke     value\n",
       "0     Fersk oppalen laks        Vekt (tonn)  2021U12  20495.00\n",
       "1     Fersk oppalen laks        Vekt (tonn)  2021U13  14286.00\n",
       "2     Fersk oppalen laks        Vekt (tonn)  2021U14  15144.00\n",
       "3     Fersk oppalen laks        Vekt (tonn)  2021U15  17979.00\n",
       "4     Fersk oppalen laks        Vekt (tonn)  2021U16  16234.00\n",
       "..                   ...                ...      ...       ...\n",
       "207  Frosen oppalen laks      Kilopris (kr)  2022U08     72.47\n",
       "208  Frosen oppalen laks      Kilopris (kr)  2022U09     73.06\n",
       "209  Frosen oppalen laks      Kilopris (kr)  2022U10     72.26\n",
       "210  Frosen oppalen laks      Kilopris (kr)  2022U11     68.99\n",
       "211  Frosen oppalen laks      Kilopris (kr)  2022U12     83.13\n",
       "\n",
       "[212 rows x 4 columns]"
      ]
     },
     "execution_count": 14,
     "metadata": {},
     "output_type": "execute_result"
    }
   ],
   "source": [
    "fetch_data()"
   ]
  },
  {
   "cell_type": "code",
   "execution_count": null,
   "id": "483dfeae-5899-4e00-a029-baaa8ec4a20b",
   "metadata": {},
   "outputs": [],
   "source": []
  }
 ],
 "metadata": {
  "kernelspec": {
   "display_name": "Python 3 (ipykernel)",
   "language": "python",
   "name": "python3"
  },
  "language_info": {
   "codemirror_mode": {
    "name": "ipython",
    "version": 3
   },
   "file_extension": ".py",
   "mimetype": "text/x-python",
   "name": "python",
   "nbconvert_exporter": "python",
   "pygments_lexer": "ipython3",
   "version": "3.8.12"
  }
 },
 "nbformat": 4,
 "nbformat_minor": 5
}
