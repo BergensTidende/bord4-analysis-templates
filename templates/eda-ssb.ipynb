{
 "cells": [
  {
   "cell_type": "markdown",
   "id": "1277a09c-80cf-4698-9084-84d6293a73dd",
   "metadata": {
    "tags": []
   },
   "source": [
    "# EDA SSB\n",
    "Show how to use the SSB api"
   ]
  },
  {
   "cell_type": "code",
   "execution_count": 1,
   "id": "2b2b78fb-3de7-4fc8-8c29-42e729230af1",
   "metadata": {},
   "outputs": [],
   "source": [
    "# Notebook config, enviroment and logging\n",
    "\n",
    "import os\n",
    "import sys\n",
    "\n",
    "import logging\n",
    "from dotenv import load_dotenv\n",
    "\n",
    "import pakkenellik.config as conf\n",
    "from pakkenellik.log import logger\n",
    "\n",
    "# Add module path and load config\n",
    "module_path = os.path.abspath(os.path.join(\"..\"))\n",
    "if module_path not in sys.path:\n",
    "    sys.path.append(module_path)\n",
    "\n",
    "# Autoreload extension\n",
    "if \"autoreload\" not in get_ipython().extension_manager.loaded:\n",
    "    %load_ext autoreload\n",
    "\n",
    "%autoreload 2\n",
    "\n",
    "# Load the .env file into local env\n",
    "load_dotenv()\n",
    "\n",
    "# Create the config\n",
    "config = conf.Config(module_path)\n",
    "\n",
    "# Enable logging and crank up log level to DEBUG.\n",
    "# This is particularly useful when developing code in your project module and using it from a notebook.\n",
    "logger.setLevel(logging.DEBUG)"
   ]
  },
  {
   "cell_type": "code",
   "execution_count": 2,
   "id": "cb3a37b4-123d-42d0-8917-9fb33bece25d",
   "metadata": {},
   "outputs": [],
   "source": [
    "## Data manipulation\n",
    "import pandas as pd\n",
    "import numpy as np\n",
    "\n",
    "# Options for pandas\n",
    "pd.options.display.max_columns = 50\n",
    "pd.options.display.max_rows = 30\n",
    "\n",
    "from pakkenellik.dataframe import clean_column_headers"
   ]
  },
  {
   "cell_type": "code",
   "execution_count": 3,
   "id": "73e14376-2118-4bfc-a4ef-51b07a1bca63",
   "metadata": {},
   "outputs": [],
   "source": [
    "from etl.etl_ssb_api import fetch_data"
   ]
  },
  {
   "cell_type": "markdown",
   "id": "fde2dbdc-e0a9-4ec8-9231-61ca70d3a6e3",
   "metadata": {},
   "source": [
    "All code that fetches data should be in the etl folder. By having the code as a py file we can import it from the eda and publish folders"
   ]
  },
  {
   "cell_type": "code",
   "execution_count": 4,
   "id": "4fe940eb-c9f3-4251-8723-ba1b74653831",
   "metadata": {},
   "outputs": [
    {
     "name": "stdout",
     "output_type": "stream",
     "text": [
      "\u001b[96m[D] 2022-12-29 20:03:17: Starting new HTTPS connection (1): data.ssb.no:443\u001b[0m\n",
      "\u001b[96m[D] 2022-12-29 20:03:20: https://data.ssb.no:443 \"POST /api/v0/no/table/03024 HTTP/1.1\" 200 3806\u001b[0m\n"
     ]
    }
   ],
   "source": [
    "df = fetch_data()"
   ]
  },
  {
   "cell_type": "code",
   "execution_count": 5,
   "id": "483dfeae-5899-4e00-a029-baaa8ec4a20b",
   "metadata": {},
   "outputs": [
    {
     "data": {
      "text/html": [
       "<div>\n",
       "<style scoped>\n",
       "    .dataframe tbody tr th:only-of-type {\n",
       "        vertical-align: middle;\n",
       "    }\n",
       "\n",
       "    .dataframe tbody tr th {\n",
       "        vertical-align: top;\n",
       "    }\n",
       "\n",
       "    .dataframe thead th {\n",
       "        text-align: right;\n",
       "    }\n",
       "</style>\n",
       "<table border=\"1\" class=\"dataframe\">\n",
       "  <thead>\n",
       "    <tr style=\"text-align: right;\">\n",
       "      <th></th>\n",
       "      <th>varegruppe</th>\n",
       "      <th>statistikkvariabel</th>\n",
       "      <th>uke</th>\n",
       "      <th>value</th>\n",
       "    </tr>\n",
       "  </thead>\n",
       "  <tbody>\n",
       "    <tr>\n",
       "      <th>0</th>\n",
       "      <td>Fersk oppalen laks</td>\n",
       "      <td>Vekt (tonn)</td>\n",
       "      <td>2021U51</td>\n",
       "      <td>18099.0</td>\n",
       "    </tr>\n",
       "    <tr>\n",
       "      <th>1</th>\n",
       "      <td>Fersk oppalen laks</td>\n",
       "      <td>Vekt (tonn)</td>\n",
       "      <td>2021U52</td>\n",
       "      <td>14360.0</td>\n",
       "    </tr>\n",
       "    <tr>\n",
       "      <th>2</th>\n",
       "      <td>Fersk oppalen laks</td>\n",
       "      <td>Vekt (tonn)</td>\n",
       "      <td>2022U01</td>\n",
       "      <td>18114.0</td>\n",
       "    </tr>\n",
       "    <tr>\n",
       "      <th>3</th>\n",
       "      <td>Fersk oppalen laks</td>\n",
       "      <td>Vekt (tonn)</td>\n",
       "      <td>2022U02</td>\n",
       "      <td>17600.0</td>\n",
       "    </tr>\n",
       "    <tr>\n",
       "      <th>4</th>\n",
       "      <td>Fersk oppalen laks</td>\n",
       "      <td>Vekt (tonn)</td>\n",
       "      <td>2022U03</td>\n",
       "      <td>17699.0</td>\n",
       "    </tr>\n",
       "  </tbody>\n",
       "</table>\n",
       "</div>"
      ],
      "text/plain": [
       "           varegruppe statistikkvariabel      uke    value\n",
       "0  Fersk oppalen laks        Vekt (tonn)  2021U51  18099.0\n",
       "1  Fersk oppalen laks        Vekt (tonn)  2021U52  14360.0\n",
       "2  Fersk oppalen laks        Vekt (tonn)  2022U01  18114.0\n",
       "3  Fersk oppalen laks        Vekt (tonn)  2022U02  17600.0\n",
       "4  Fersk oppalen laks        Vekt (tonn)  2022U03  17699.0"
      ]
     },
     "execution_count": 5,
     "metadata": {},
     "output_type": "execute_result"
    }
   ],
   "source": [
    "df.head()"
   ]
  },
  {
   "cell_type": "code",
   "execution_count": 6,
   "id": "53eccbfa-2b41-4976-9b23-553875b046f4",
   "metadata": {},
   "outputs": [
    {
     "data": {
      "text/plain": [
       "(212, 4)"
      ]
     },
     "execution_count": 6,
     "metadata": {},
     "output_type": "execute_result"
    }
   ],
   "source": [
    "df.shape"
   ]
  },
  {
   "cell_type": "code",
   "execution_count": null,
   "id": "f0f8fad3-cc63-4a54-85d6-74189a04e3fe",
   "metadata": {},
   "outputs": [],
   "source": []
  }
 ],
 "metadata": {
  "kernelspec": {
   "display_name": "Python 3 (ipykernel)",
   "language": "python",
   "name": "python3"
  },
  "language_info": {
   "codemirror_mode": {
    "name": "ipython",
    "version": 3
   },
   "file_extension": ".py",
   "mimetype": "text/x-python",
   "name": "python",
   "nbconvert_exporter": "python",
   "pygments_lexer": "ipython3",
   "version": "3.10.3"
  }
 },
 "nbformat": 4,
 "nbformat_minor": 5
}
